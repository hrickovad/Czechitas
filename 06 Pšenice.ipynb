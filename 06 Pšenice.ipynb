{
 "cells": [
  {
   "cell_type": "markdown",
   "id": "8b9c0c54",
   "metadata": {},
   "source": [
    "import requests\n",
    "\n",
    "with requests.get(\"https://raw.githubusercontent.com/pesikj/progr2-python/master/data/psenice.csv\") as r:\n",
    "  open(\"psenice.csv\", 'w', encoding=\"utf-8\").write(r.text)\n",
    "  \n",
    "  \n",
    "V souboru jsou data o délce zrn pšenice v milimetrech pro dvě odrůdy - Rosa a Canadian. Proveď statistický test hypotézy o tom, zda se délka těchto dvou zrn liší. K testu použij Mann–Whitney U test, který jsme používali na lekci.\n",
    "\n",
    "V komentáři u programu formuluj hypotézy, které budeš ověřovat. Je potřeba formulovat dvě hypotézy - nulovou a alternativní. Provádíme oboustranný test, takže alternativní hypotézy by měla být, že průměry délky zrna jsou různé (nejsou si rovné).\n",
    "Pomocí modulu scipy urči p-hodnotu testu a porovnej ji s hladinou významnosti 5 %. V komentáři uveď závěr, jestli nulovou hypotézu na základě p-hodnoty zamítáme.\n",
    "\n",
    "Platí pravidlo, že je-li p-hodnota menší než hladina významnosti, nulovou hypotézu zamítáme. V opačném případě říkáme, že ji nezamítáme.\n",
    "\n",
    "Měl(a) bys dospět k p-hodnotě menší než 1 %."
   ]
  },
  {
   "cell_type": "code",
   "execution_count": 1,
   "id": "cbbeb99b",
   "metadata": {},
   "outputs": [],
   "source": [
    "import requests\n",
    "import pandas as pd\n",
    "\n",
    "with requests.get(\"https://raw.githubusercontent.com/pesikj/progr2-python/master/data/psenice.csv\") as r:\n",
    "  open(\"psenice.csv\", 'w', encoding=\"utf-8\").write(r.text)\n",
    "\n",
    "\n",
    "from scipy.stats import mannwhitneyu"
   ]
  },
  {
   "cell_type": "markdown",
   "id": "029a6317",
   "metadata": {},
   "source": [
    "nulova hypoteza : zrna obidvoch druhov psenice su rovnako velke (50/50%)\n",
    "alternativna hypoteza : priemery dlzok zrn obidvoch druhov psenice su rozne"
   ]
  },
  {
   "cell_type": "code",
   "execution_count": 2,
   "id": "99221638",
   "metadata": {},
   "outputs": [],
   "source": [
    "pšenice = pd.read_csv('psenice.csv')"
   ]
  },
  {
   "cell_type": "code",
   "execution_count": 3,
   "id": "3b1cf45b",
   "metadata": {},
   "outputs": [
    {
     "data": {
      "text/html": [
       "<div>\n",
       "<style scoped>\n",
       "    .dataframe tbody tr th:only-of-type {\n",
       "        vertical-align: middle;\n",
       "    }\n",
       "\n",
       "    .dataframe tbody tr th {\n",
       "        vertical-align: top;\n",
       "    }\n",
       "\n",
       "    .dataframe thead th {\n",
       "        text-align: right;\n",
       "    }\n",
       "</style>\n",
       "<table border=\"1\" class=\"dataframe\">\n",
       "  <thead>\n",
       "    <tr style=\"text-align: right;\">\n",
       "      <th></th>\n",
       "      <th>Rosa</th>\n",
       "      <th>Canadian</th>\n",
       "    </tr>\n",
       "  </thead>\n",
       "  <tbody>\n",
       "    <tr>\n",
       "      <th>0</th>\n",
       "      <td>6.191</td>\n",
       "      <td>5.472</td>\n",
       "    </tr>\n",
       "    <tr>\n",
       "      <th>1</th>\n",
       "      <td>5.998</td>\n",
       "      <td>5.541</td>\n",
       "    </tr>\n",
       "    <tr>\n",
       "      <th>2</th>\n",
       "      <td>5.978</td>\n",
       "      <td>5.389</td>\n",
       "    </tr>\n",
       "    <tr>\n",
       "      <th>3</th>\n",
       "      <td>6.154</td>\n",
       "      <td>5.224</td>\n",
       "    </tr>\n",
       "    <tr>\n",
       "      <th>4</th>\n",
       "      <td>6.017</td>\n",
       "      <td>5.314</td>\n",
       "    </tr>\n",
       "    <tr>\n",
       "      <th>...</th>\n",
       "      <td>...</td>\n",
       "      <td>...</td>\n",
       "    </tr>\n",
       "    <tr>\n",
       "      <th>65</th>\n",
       "      <td>5.477</td>\n",
       "      <td>5.137</td>\n",
       "    </tr>\n",
       "    <tr>\n",
       "      <th>66</th>\n",
       "      <td>6.145</td>\n",
       "      <td>5.140</td>\n",
       "    </tr>\n",
       "    <tr>\n",
       "      <th>67</th>\n",
       "      <td>5.920</td>\n",
       "      <td>5.236</td>\n",
       "    </tr>\n",
       "    <tr>\n",
       "      <th>68</th>\n",
       "      <td>5.832</td>\n",
       "      <td>5.175</td>\n",
       "    </tr>\n",
       "    <tr>\n",
       "      <th>69</th>\n",
       "      <td>5.872</td>\n",
       "      <td>5.243</td>\n",
       "    </tr>\n",
       "  </tbody>\n",
       "</table>\n",
       "<p>70 rows × 2 columns</p>\n",
       "</div>"
      ],
      "text/plain": [
       "     Rosa  Canadian\n",
       "0   6.191     5.472\n",
       "1   5.998     5.541\n",
       "2   5.978     5.389\n",
       "3   6.154     5.224\n",
       "4   6.017     5.314\n",
       "..    ...       ...\n",
       "65  5.477     5.137\n",
       "66  6.145     5.140\n",
       "67  5.920     5.236\n",
       "68  5.832     5.175\n",
       "69  5.872     5.243\n",
       "\n",
       "[70 rows x 2 columns]"
      ]
     },
     "execution_count": 3,
     "metadata": {},
     "output_type": "execute_result"
    }
   ],
   "source": [
    "pšenice"
   ]
  },
  {
   "cell_type": "code",
   "execution_count": 4,
   "id": "33b5363c",
   "metadata": {},
   "outputs": [],
   "source": [
    "Rosa = pšenice['Rosa']"
   ]
  },
  {
   "cell_type": "code",
   "execution_count": 5,
   "id": "84d3e175",
   "metadata": {},
   "outputs": [],
   "source": [
    "Canadian = pšenice['Canadian']"
   ]
  },
  {
   "cell_type": "code",
   "execution_count": 6,
   "id": "9814e684",
   "metadata": {},
   "outputs": [
    {
     "data": {
      "text/plain": [
       "MannwhitneyuResult(statistic=4884.5, pvalue=1.761218760514991e-24)"
      ]
     },
     "execution_count": 6,
     "metadata": {},
     "output_type": "execute_result"
    }
   ],
   "source": [
    "mannwhitneyu(Rosa,Canadian,alternative = \"greater\")"
   ]
  },
  {
   "cell_type": "markdown",
   "id": "e22d3f9e",
   "metadata": {},
   "source": [
    "Nulova hypoteza sa zamieta a prijima alternativna."
   ]
  }
 ],
 "metadata": {
  "kernelspec": {
   "display_name": "Python 3 (ipykernel)",
   "language": "python",
   "name": "python3"
  },
  "language_info": {
   "codemirror_mode": {
    "name": "ipython",
    "version": 3
   },
   "file_extension": ".py",
   "mimetype": "text/x-python",
   "name": "python",
   "nbconvert_exporter": "python",
   "pygments_lexer": "ipython3",
   "version": "3.9.9"
  }
 },
 "nbformat": 4,
 "nbformat_minor": 5
}
