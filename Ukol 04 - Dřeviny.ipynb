{
 "cells": [
  {
   "cell_type": "markdown",
   "id": "54905bb9",
   "metadata": {},
   "source": [
    "### Dřeviny\n",
    "\n",
    "Tabulka dreviny v naší databázi obsahuje informace o těžbě dřeva podle druhů dřevin a typu těžby. Objem těžby se nachází ve sloupci hodnota.\n",
    "\n",
    "Pomocí SQL dotazu do databáze si připrav dvě pandas tabulky:\n",
    "tabulka smrk bude obsahovat řádky, které mají v sloupci dd_txt hodnotu \"Smrk, jedle, douglaska\"\n",
    "\n",
    "tabulka nahodila_tezba bude obsahovat řádky, které mají v sloupci druhtez_txt hodnotu \"Nahodilá těžba dřeva\"\n",
    "\n",
    "Vytvoř graf, který ukáže vývoj objemu těžby pro tabulku smrk. Pozor, řádky nemusí být seřazené podle roku.\n",
    "\n",
    "Vytvoř graf (nebo několik grafů), který ukáže vývoj objemu těžby v čase pro všechny typy nahodilé těžby. Můžeš použít vlastní postup, nebo postupuj podle jedné z nápověd:\n",
    "\n",
    "První metoda: agreguj tabulku nahodila_tezba pomocí metody pivot_table a na výsledek zavolej metodu plot().\n",
    "\n",
    "Druhá metoda: agreguj tabulku nahodila_tezba pomocí metody groupby a na výsledek zavolej metodu plot(), kde specifikuješ, který sloupec bude na ose x, a který na ose y.\n",
    "\n",
    "Dobrovolný doplněk\n",
    "Čím je způsobený prudký nárůst těžby jehličnatých stromů cca od roku 2015, který je viditelný v grafu z bodu (2.)?\n",
    "Kolem roku 2007 vidíme v obou grafech krátkodobý nárůst těžby. Čím byl způsobený (můžeš zkusit dohledat konkrétní událost)?"
   ]
  },
  {
   "cell_type": "code",
   "execution_count": 1,
   "id": "c7f898cb",
   "metadata": {},
   "outputs": [],
   "source": [
    "import pandas as pd\n",
    "import psycopg2\n",
    "import sqlalchemy\n",
    "from sqlalchemy import create_engine, inspect\n",
    "import os\n",
    "import matplotlib.pyplot as plt\n",
    "import numpy\n"
   ]
  },
  {
   "cell_type": "code",
   "execution_count": 2,
   "id": "b7d3421d",
   "metadata": {},
   "outputs": [],
   "source": [
    "HOST = \"czechitaspsql.postgres.database.azure.com\"\n",
    "PORT = 5432\n",
    "USER = \"hrickovad\"\n",
    "USERNAME = f\"{USER}@czechitaspsql\"\n",
    "DATABASE = \"postgres\"\n",
    "PASSWORD = \"xdJ0X?rd=UeJmnEZ\""
   ]
  },
  {
   "cell_type": "code",
   "execution_count": 3,
   "id": "44a268f1",
   "metadata": {},
   "outputs": [],
   "source": [
    "engine = create_engine(f\"postgresql://{USERNAME}:{PASSWORD}@{HOST}:{PORT}/{DATABASE}\", echo = False)"
   ]
  },
  {
   "cell_type": "code",
   "execution_count": 4,
   "id": "c4f88e33",
   "metadata": {
    "scrolled": true
   },
   "outputs": [],
   "source": [
    "inspector = inspect(engine)"
   ]
  },
  {
   "cell_type": "code",
   "execution_count": 5,
   "id": "ef99c468",
   "metadata": {},
   "outputs": [
    {
     "name": "stdout",
     "output_type": "stream",
     "text": [
      "['users_cz-vyskoc', 'users', 'uzivatele-username', 'users_test_users', 'uzivatel-z.drbalova', 'dreviny', 'uzivatele-aneska.houskova', 'uzivatele-tb.bohata', 'uzivatele-sisamyska', 'uzivatele-ivetach', 'uzivatele-cimbalakova.hana.3', 'uzivatele-anetadedkova21', 'uzivatele-z.drbalova', 'uzivatele-info', 'uzivatele-veronika.flokova', 'uzivatele-d.galavska', 'uzivatele-hizova.k', 'uzivatele-katroskaa', 'uzivatele-hrickovad', 'uzivatele-ivancova.miroslava', 'uzivatele-klarunkax', 'uzivatele-lenka.kocmanova', 'uzivatele-jarmila.kowolowska', 'uzivatele-helena.kuthanova', 'uzivatele-Markova.com', 'uzivatele-alzbetamartincova', 'uzivatele-n.ilona', 'uzivatele-anna.ocilkova', 'uzivatele-zuzana.ondruchova', 'uzivatele-zuzana.opletalova', 'uzivatele-pajerova.hedvika', 'uzivatele-verzus.mining', 'uzivatele-m.rezakova', 'uzivatele-andrea.stolfova', 'uzivatele-petra.slanarova', 'uzivatele-lucie', 'uzivatele-petraprincova', 'uzivatele-stark', 'uzivatele-mirek.stransky', 'uzivatele-miriamatyralova', 'uzivatele-barbora3ulicna', 'uzivatele-monikavanzurova', 'uzivatele-szeteiova.p', 'uzivatele-darinavaskova', 'uzivatele-olesya.vegrenovskaya', 'uzivatele-verca.mala.mala', 'uzivatele-ver.cik', 'uzivatele-vyskoc', 'uzivatele-jiri.pesik', 'uzivatele-ludmila.tydlitatova', 'uzivatele-jarabkova.sabina', 'uzivatele-michaelakrouzkova', 'uzivatele-gr.anna22', 'uzivatele-redguy', 'uzivatele-tinka.nguyenova', 'uzivatele-soltys.pavol', 'crime', 'users_cz-verzus.mining', 'users_cz-anetadedkova21', 'smrk', 'uzivatel-miriamatyralova', 'pocet_obyvatel', 'pocet_bytu']\n"
     ]
    }
   ],
   "source": [
    "print(inspector.get_table_names())"
   ]
  },
  {
   "cell_type": "code",
   "execution_count": 6,
   "id": "7c206b1a",
   "metadata": {},
   "outputs": [],
   "source": [
    "dreviny = pd.read_sql(\"dreviny\", con = engine)"
   ]
  },
  {
   "cell_type": "code",
   "execution_count": 7,
   "id": "23ae8f6c",
   "metadata": {
    "scrolled": true
   },
   "outputs": [
    {
     "data": {
      "text/html": [
       "<div>\n",
       "<style scoped>\n",
       "    .dataframe tbody tr th:only-of-type {\n",
       "        vertical-align: middle;\n",
       "    }\n",
       "\n",
       "    .dataframe tbody tr th {\n",
       "        vertical-align: top;\n",
       "    }\n",
       "\n",
       "    .dataframe thead th {\n",
       "        text-align: right;\n",
       "    }\n",
       "</style>\n",
       "<table border=\"1\" class=\"dataframe\">\n",
       "  <thead>\n",
       "    <tr style=\"text-align: right;\">\n",
       "      <th></th>\n",
       "      <th>idhod</th>\n",
       "      <th>hodnota</th>\n",
       "      <th>stapro_kod</th>\n",
       "      <th>dd_cis</th>\n",
       "      <th>dd_kod</th>\n",
       "      <th>druhtez_cis</th>\n",
       "      <th>druhtez_kod</th>\n",
       "      <th>prictez_cis</th>\n",
       "      <th>prictez_kod</th>\n",
       "      <th>rok</th>\n",
       "      <th>uzemi_cis</th>\n",
       "      <th>uzemi_kod</th>\n",
       "      <th>dd_txt</th>\n",
       "      <th>druhtez_txt</th>\n",
       "      <th>prictez_txt</th>\n",
       "      <th>ELPRO_ID</th>\n",
       "    </tr>\n",
       "  </thead>\n",
       "  <tbody>\n",
       "    <tr>\n",
       "      <th>0</th>\n",
       "      <td>701338116</td>\n",
       "      <td>16736274</td>\n",
       "      <td>5966</td>\n",
       "      <td>NaN</td>\n",
       "      <td>NaN</td>\n",
       "      <td>NaN</td>\n",
       "      <td>NaN</td>\n",
       "      <td>NaN</td>\n",
       "      <td>NaN</td>\n",
       "      <td>2010</td>\n",
       "      <td>97</td>\n",
       "      <td>19</td>\n",
       "      <td>None</td>\n",
       "      <td>None</td>\n",
       "      <td>None</td>\n",
       "      <td>1336119</td>\n",
       "    </tr>\n",
       "    <tr>\n",
       "      <th>1</th>\n",
       "      <td>701338296</td>\n",
       "      <td>385605</td>\n",
       "      <td>5966</td>\n",
       "      <td>203.0</td>\n",
       "      <td>21.0</td>\n",
       "      <td>NaN</td>\n",
       "      <td>NaN</td>\n",
       "      <td>NaN</td>\n",
       "      <td>NaN</td>\n",
       "      <td>2010</td>\n",
       "      <td>97</td>\n",
       "      <td>19</td>\n",
       "      <td>Dub</td>\n",
       "      <td>None</td>\n",
       "      <td>None</td>\n",
       "      <td>1845096</td>\n",
       "    </tr>\n",
       "    <tr>\n",
       "      <th>2</th>\n",
       "      <td>701338310</td>\n",
       "      <td>812475</td>\n",
       "      <td>5966</td>\n",
       "      <td>202.0</td>\n",
       "      <td>14.0</td>\n",
       "      <td>NaN</td>\n",
       "      <td>NaN</td>\n",
       "      <td>NaN</td>\n",
       "      <td>NaN</td>\n",
       "      <td>2010</td>\n",
       "      <td>97</td>\n",
       "      <td>19</td>\n",
       "      <td>Buk</td>\n",
       "      <td>None</td>\n",
       "      <td>None</td>\n",
       "      <td>1845097</td>\n",
       "    </tr>\n",
       "    <tr>\n",
       "      <th>3</th>\n",
       "      <td>701338324</td>\n",
       "      <td>68687</td>\n",
       "      <td>5966</td>\n",
       "      <td>202.0</td>\n",
       "      <td>17.0</td>\n",
       "      <td>NaN</td>\n",
       "      <td>NaN</td>\n",
       "      <td>NaN</td>\n",
       "      <td>NaN</td>\n",
       "      <td>2010</td>\n",
       "      <td>97</td>\n",
       "      <td>19</td>\n",
       "      <td>Jasan</td>\n",
       "      <td>None</td>\n",
       "      <td>None</td>\n",
       "      <td>1845098</td>\n",
       "    </tr>\n",
       "    <tr>\n",
       "      <th>4</th>\n",
       "      <td>701338161</td>\n",
       "      <td>6458564</td>\n",
       "      <td>5966</td>\n",
       "      <td>NaN</td>\n",
       "      <td>NaN</td>\n",
       "      <td>199.0</td>\n",
       "      <td>22.0</td>\n",
       "      <td>NaN</td>\n",
       "      <td>NaN</td>\n",
       "      <td>2010</td>\n",
       "      <td>97</td>\n",
       "      <td>19</td>\n",
       "      <td>None</td>\n",
       "      <td>Nahodilá těžba dřeva</td>\n",
       "      <td>None</td>\n",
       "      <td>1845105</td>\n",
       "    </tr>\n",
       "    <tr>\n",
       "      <th>...</th>\n",
       "      <td>...</td>\n",
       "      <td>...</td>\n",
       "      <td>...</td>\n",
       "      <td>...</td>\n",
       "      <td>...</td>\n",
       "      <td>...</td>\n",
       "      <td>...</td>\n",
       "      <td>...</td>\n",
       "      <td>...</td>\n",
       "      <td>...</td>\n",
       "      <td>...</td>\n",
       "      <td>...</td>\n",
       "      <td>...</td>\n",
       "      <td>...</td>\n",
       "      <td>...</td>\n",
       "      <td>...</td>\n",
       "    </tr>\n",
       "    <tr>\n",
       "      <th>436</th>\n",
       "      <td>885436733</td>\n",
       "      <td>26243307</td>\n",
       "      <td>5966</td>\n",
       "      <td>NaN</td>\n",
       "      <td>NaN</td>\n",
       "      <td>199.0</td>\n",
       "      <td>22.0</td>\n",
       "      <td>206.0</td>\n",
       "      <td>3.0</td>\n",
       "      <td>2020</td>\n",
       "      <td>97</td>\n",
       "      <td>19</td>\n",
       "      <td>None</td>\n",
       "      <td>Nahodilá těžba dřeva</td>\n",
       "      <td>Hmyzová příčina</td>\n",
       "      <td>10009761</td>\n",
       "    </tr>\n",
       "    <tr>\n",
       "      <th>437</th>\n",
       "      <td>885436979</td>\n",
       "      <td>4597015</td>\n",
       "      <td>5966</td>\n",
       "      <td>NaN</td>\n",
       "      <td>NaN</td>\n",
       "      <td>199.0</td>\n",
       "      <td>22.0</td>\n",
       "      <td>206.0</td>\n",
       "      <td>1.0</td>\n",
       "      <td>2020</td>\n",
       "      <td>97</td>\n",
       "      <td>19</td>\n",
       "      <td>None</td>\n",
       "      <td>Nahodilá těžba dřeva</td>\n",
       "      <td>Živelní příčina</td>\n",
       "      <td>10009763</td>\n",
       "    </tr>\n",
       "    <tr>\n",
       "      <th>438</th>\n",
       "      <td>885437238</td>\n",
       "      <td>14384</td>\n",
       "      <td>5966</td>\n",
       "      <td>NaN</td>\n",
       "      <td>NaN</td>\n",
       "      <td>199.0</td>\n",
       "      <td>22.0</td>\n",
       "      <td>206.0</td>\n",
       "      <td>2.0</td>\n",
       "      <td>2020</td>\n",
       "      <td>97</td>\n",
       "      <td>19</td>\n",
       "      <td>None</td>\n",
       "      <td>Nahodilá těžba dřeva</td>\n",
       "      <td>Exhalační příčina</td>\n",
       "      <td>10009764</td>\n",
       "    </tr>\n",
       "    <tr>\n",
       "      <th>439</th>\n",
       "      <td>885437222</td>\n",
       "      <td>36046</td>\n",
       "      <td>5966</td>\n",
       "      <td>203.0</td>\n",
       "      <td>23.0</td>\n",
       "      <td>NaN</td>\n",
       "      <td>NaN</td>\n",
       "      <td>NaN</td>\n",
       "      <td>NaN</td>\n",
       "      <td>2020</td>\n",
       "      <td>97</td>\n",
       "      <td>19</td>\n",
       "      <td>Habr, jilm, akát a ostatní listnaté dřeviny</td>\n",
       "      <td>None</td>\n",
       "      <td>None</td>\n",
       "      <td>10009765</td>\n",
       "    </tr>\n",
       "    <tr>\n",
       "      <th>440</th>\n",
       "      <td>885436675</td>\n",
       "      <td>1507728</td>\n",
       "      <td>5966</td>\n",
       "      <td>203.0</td>\n",
       "      <td>14.0</td>\n",
       "      <td>NaN</td>\n",
       "      <td>NaN</td>\n",
       "      <td>NaN</td>\n",
       "      <td>NaN</td>\n",
       "      <td>2020</td>\n",
       "      <td>97</td>\n",
       "      <td>19</td>\n",
       "      <td>Borovice a kosodřevina</td>\n",
       "      <td>None</td>\n",
       "      <td>None</td>\n",
       "      <td>10950854</td>\n",
       "    </tr>\n",
       "  </tbody>\n",
       "</table>\n",
       "<p>441 rows × 16 columns</p>\n",
       "</div>"
      ],
      "text/plain": [
       "         idhod   hodnota  stapro_kod  dd_cis  dd_kod  druhtez_cis  \\\n",
       "0    701338116  16736274        5966     NaN     NaN          NaN   \n",
       "1    701338296    385605        5966   203.0    21.0          NaN   \n",
       "2    701338310    812475        5966   202.0    14.0          NaN   \n",
       "3    701338324     68687        5966   202.0    17.0          NaN   \n",
       "4    701338161   6458564        5966     NaN     NaN        199.0   \n",
       "..         ...       ...         ...     ...     ...          ...   \n",
       "436  885436733  26243307        5966     NaN     NaN        199.0   \n",
       "437  885436979   4597015        5966     NaN     NaN        199.0   \n",
       "438  885437238     14384        5966     NaN     NaN        199.0   \n",
       "439  885437222     36046        5966   203.0    23.0          NaN   \n",
       "440  885436675   1507728        5966   203.0    14.0          NaN   \n",
       "\n",
       "     druhtez_kod  prictez_cis  prictez_kod   rok  uzemi_cis  uzemi_kod  \\\n",
       "0            NaN          NaN          NaN  2010         97         19   \n",
       "1            NaN          NaN          NaN  2010         97         19   \n",
       "2            NaN          NaN          NaN  2010         97         19   \n",
       "3            NaN          NaN          NaN  2010         97         19   \n",
       "4           22.0          NaN          NaN  2010         97         19   \n",
       "..           ...          ...          ...   ...        ...        ...   \n",
       "436         22.0        206.0          3.0  2020         97         19   \n",
       "437         22.0        206.0          1.0  2020         97         19   \n",
       "438         22.0        206.0          2.0  2020         97         19   \n",
       "439          NaN          NaN          NaN  2020         97         19   \n",
       "440          NaN          NaN          NaN  2020         97         19   \n",
       "\n",
       "                                          dd_txt           druhtez_txt  \\\n",
       "0                                           None                  None   \n",
       "1                                            Dub                  None   \n",
       "2                                            Buk                  None   \n",
       "3                                          Jasan                  None   \n",
       "4                                           None  Nahodilá těžba dřeva   \n",
       "..                                           ...                   ...   \n",
       "436                                         None  Nahodilá těžba dřeva   \n",
       "437                                         None  Nahodilá těžba dřeva   \n",
       "438                                         None  Nahodilá těžba dřeva   \n",
       "439  Habr, jilm, akát a ostatní listnaté dřeviny                  None   \n",
       "440                       Borovice a kosodřevina                  None   \n",
       "\n",
       "           prictez_txt  ELPRO_ID  \n",
       "0                 None   1336119  \n",
       "1                 None   1845096  \n",
       "2                 None   1845097  \n",
       "3                 None   1845098  \n",
       "4                 None   1845105  \n",
       "..                 ...       ...  \n",
       "436    Hmyzová příčina  10009761  \n",
       "437    Živelní příčina  10009763  \n",
       "438  Exhalační příčina  10009764  \n",
       "439               None  10009765  \n",
       "440               None  10950854  \n",
       "\n",
       "[441 rows x 16 columns]"
      ]
     },
     "execution_count": 7,
     "metadata": {},
     "output_type": "execute_result"
    }
   ],
   "source": [
    "dreviny"
   ]
  },
  {
   "cell_type": "code",
   "execution_count": 8,
   "id": "eee8e37e",
   "metadata": {},
   "outputs": [],
   "source": [
    "smrk = pd.read_sql(\"SELECT * from dreviny WHERE dd_txt= 'Smrk, jedle, douglaska' \", con = engine)"
   ]
  },
  {
   "cell_type": "code",
   "execution_count": 9,
   "id": "867ff8b5",
   "metadata": {},
   "outputs": [],
   "source": [
    "smrk = smrk.sort_values(\"rok\", ascending = True)"
   ]
  },
  {
   "cell_type": "code",
   "execution_count": 10,
   "id": "8aaa41f8",
   "metadata": {},
   "outputs": [
    {
     "data": {
      "text/plain": [
       "<AxesSubplot:title={'center':'Vývoj těžby'}, xlabel='rok'>"
      ]
     },
     "execution_count": 10,
     "metadata": {},
     "output_type": "execute_result"
    },
    {
     "data": {
      "image/png": "[encoded data removed]",
      "text/plain": [
       "<Figure size 432x288 with 1 Axes>"
      ]
     },
     "metadata": {
      "needs_background": "light"
     },
     "output_type": "display_data"
    }
   ],
   "source": [
    "smrk.plot(kind=\"bar\",color=\"lightblue\",x=\"rok\", y=\"hodnota\", title=\"Vývoj těžby\")"
   ]
  },
  {
   "cell_type": "code",
   "execution_count": 11,
   "id": "8314adeb",
   "metadata": {},
   "outputs": [],
   "source": [
    "nahodila_tezba = pd.read_sql(\"SELECT * from dreviny WHERE druhtez_txt='Nahodilá těžba dřeva'\", con = engine)"
   ]
  },
  {
   "cell_type": "code",
   "execution_count": 12,
   "id": "608cd81a",
   "metadata": {
    "scrolled": true
   },
   "outputs": [],
   "source": [
    "tezba = nahodila_tezba.groupby(['prictez_txt','rok'])['hodnota'].sum()\n"
   ]
  },
  {
   "cell_type": "code",
   "execution_count": 13,
   "id": "371f003a",
   "metadata": {},
   "outputs": [],
   "source": [
    "tezba_df = pd.DataFrame(data= tezba)\n",
    "tezba_df = tezba_df.reset_index()\n",
    "tezba_df_pokus = tezba_df[tezba_df['prictez_txt'] == \"Exhalační příčina\"]"
   ]
  },
  {
   "cell_type": "code",
   "execution_count": 14,
   "id": "d059ffde",
   "metadata": {},
   "outputs": [
    {
     "data": {
      "image/png": "[encoded data removed]",
      "text/plain": [
       "<Figure size 432x288 with 1 Axes>"
      ]
     },
     "metadata": {
      "needs_background": "light"
     },
     "output_type": "display_data"
    }
   ],
   "source": [
    "ax = tezba_df.plot.bar(stacked=True) "
   ]
  },
  {
   "cell_type": "code",
   "execution_count": null,
   "id": "0bd50ea3",
   "metadata": {},
   "outputs": [],
   "source": []
  }
 ],
 "metadata": {
  "kernelspec": {
   "display_name": "Python 3",
   "language": "python",
   "name": "python3"
  },
  "language_info": {
   "codemirror_mode": {
    "name": "ipython",
    "version": 3
   },
   "file_extension": ".py",
   "mimetype": "text/x-python",
   "name": "python",
   "nbconvert_exporter": "python",
   "pygments_lexer": "ipython3",
   "version": "3.6.8"
  }
 },
 "nbformat": 4,
 "nbformat_minor": 5
}
