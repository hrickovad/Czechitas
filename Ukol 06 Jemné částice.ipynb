{
 "cells": [
  {
   "cell_type": "markdown",
   "id": "ce27468c",
   "metadata": {},
   "source": [
    "V souboru air_polution_ukol.csv najdeš data o množství jemných částic změřených v ovzduší v jedné plzeňské meteorologické stanici a který jsme již používali v úkolu z druhého týdne.\n",
    "\n",
    "Pokud máš úkol hotový, můžeš si z něj zkopírovat následující krok:\n",
    "\n",
    "Načti dataset a převeď sloupec date (datum měření) na typ datetime.\n",
    "\n",
    "\n",
    "Dále pokračuj následujícími kroky:\n",
    "\n",
    "Z dat vyber data za leden roku 2019 a 2020.\n",
    "\n",
    "Porovnej průměrné množství jemných částic ve vzduchu v těchto dvou měsících pomocí Mann–Whitney U testu. \n",
    "\n",
    "Formuluj hypotézy pro oboustranný test (nulovou i alternativní) a napiš je do komentářů v programu.\n",
    "\n",
    "Měl(a) bys dospět k výsledku, že p-hodnota testu je 1.1 %. Rozhodni, zda bys na hladině významnosti 5 % zamítla nulovou hypotézu. Své rozhodnutí napiš do programu"
   ]
  },
  {
   "cell_type": "code",
   "execution_count": 1,
   "id": "d901d05d",
   "metadata": {},
   "outputs": [],
   "source": [
    "import requests\n",
    "import pandas as pd\n",
    "import datetime as dt\n",
    "from scipy.stats import mannwhitneyu\n",
    "\n",
    "\n",
    "with requests.get(\"https://raw.githubusercontent.com/pesikj/progr2-python/master/data/air_polution_ukol.csv\") as r:\n",
    "  open(\"air_polution_ukol.csv\", 'w', encoding=\"utf-8\").write(r.text)\n"
   ]
  },
  {
   "cell_type": "code",
   "execution_count": 2,
   "id": "370a2f59",
   "metadata": {},
   "outputs": [],
   "source": [
    "air_polution_ukol = pd.read_csv(\"air_polution_ukol.csv\")"
   ]
  },
  {
   "cell_type": "code",
   "execution_count": 3,
   "id": "a66cee2c",
   "metadata": {},
   "outputs": [],
   "source": [
    "air_polution_ukol['date'] = pd.to_datetime(air_polution_ukol['date'])"
   ]
  },
  {
   "cell_type": "code",
   "execution_count": 4,
   "id": "52eca1db",
   "metadata": {},
   "outputs": [],
   "source": [
    "air_polution_ukol['month'] = air_polution_ukol['date'].dt.month"
   ]
  },
  {
   "cell_type": "code",
   "execution_count": 5,
   "id": "84aa3f3a",
   "metadata": {},
   "outputs": [],
   "source": [
    "air_polution_ukol['year'] = air_polution_ukol['date'].dt.year"
   ]
  },
  {
   "cell_type": "code",
   "execution_count": 6,
   "id": "81cc915b",
   "metadata": {},
   "outputs": [],
   "source": [
    "air_polution = air_polution_ukol[(air_polution_ukol['month'] == 1) & ((air_polution_ukol['year'] == 2020) | (air_polution_ukol['year'] == 2019))]"
   ]
  },
  {
   "cell_type": "code",
   "execution_count": 7,
   "id": "1aadfe30",
   "metadata": {},
   "outputs": [
    {
     "data": {
      "text/html": [
       "<div>\n",
       "<style scoped>\n",
       "    .dataframe tbody tr th:only-of-type {\n",
       "        vertical-align: middle;\n",
       "    }\n",
       "\n",
       "    .dataframe tbody tr th {\n",
       "        vertical-align: top;\n",
       "    }\n",
       "\n",
       "    .dataframe thead th {\n",
       "        text-align: right;\n",
       "    }\n",
       "</style>\n",
       "<table border=\"1\" class=\"dataframe\">\n",
       "  <thead>\n",
       "    <tr style=\"text-align: right;\">\n",
       "      <th></th>\n",
       "      <th>date</th>\n",
       "      <th>pm25</th>\n",
       "      <th>month</th>\n",
       "      <th>year</th>\n",
       "    </tr>\n",
       "  </thead>\n",
       "  <tbody>\n",
       "    <tr>\n",
       "      <th>445</th>\n",
       "      <td>2020-01-01</td>\n",
       "      <td>131.0</td>\n",
       "      <td>1</td>\n",
       "      <td>2020</td>\n",
       "    </tr>\n",
       "    <tr>\n",
       "      <th>446</th>\n",
       "      <td>2020-01-02</td>\n",
       "      <td>142.0</td>\n",
       "      <td>1</td>\n",
       "      <td>2020</td>\n",
       "    </tr>\n",
       "    <tr>\n",
       "      <th>447</th>\n",
       "      <td>2020-01-03</td>\n",
       "      <td>68.0</td>\n",
       "      <td>1</td>\n",
       "      <td>2020</td>\n",
       "    </tr>\n",
       "    <tr>\n",
       "      <th>448</th>\n",
       "      <td>2020-01-04</td>\n",
       "      <td>21.0</td>\n",
       "      <td>1</td>\n",
       "      <td>2020</td>\n",
       "    </tr>\n",
       "    <tr>\n",
       "      <th>449</th>\n",
       "      <td>2020-01-05</td>\n",
       "      <td>31.0</td>\n",
       "      <td>1</td>\n",
       "      <td>2020</td>\n",
       "    </tr>\n",
       "    <tr>\n",
       "      <th>...</th>\n",
       "      <td>...</td>\n",
       "      <td>...</td>\n",
       "      <td>...</td>\n",
       "      <td>...</td>\n",
       "    </tr>\n",
       "    <tr>\n",
       "      <th>800</th>\n",
       "      <td>2019-01-27</td>\n",
       "      <td>32.0</td>\n",
       "      <td>1</td>\n",
       "      <td>2019</td>\n",
       "    </tr>\n",
       "    <tr>\n",
       "      <th>801</th>\n",
       "      <td>2019-01-28</td>\n",
       "      <td>17.0</td>\n",
       "      <td>1</td>\n",
       "      <td>2019</td>\n",
       "    </tr>\n",
       "    <tr>\n",
       "      <th>802</th>\n",
       "      <td>2019-01-29</td>\n",
       "      <td>26.0</td>\n",
       "      <td>1</td>\n",
       "      <td>2019</td>\n",
       "    </tr>\n",
       "    <tr>\n",
       "      <th>803</th>\n",
       "      <td>2019-01-30</td>\n",
       "      <td>67.0</td>\n",
       "      <td>1</td>\n",
       "      <td>2019</td>\n",
       "    </tr>\n",
       "    <tr>\n",
       "      <th>804</th>\n",
       "      <td>2019-01-31</td>\n",
       "      <td>66.0</td>\n",
       "      <td>1</td>\n",
       "      <td>2019</td>\n",
       "    </tr>\n",
       "  </tbody>\n",
       "</table>\n",
       "<p>62 rows × 4 columns</p>\n",
       "</div>"
      ],
      "text/plain": [
       "          date   pm25  month  year\n",
       "445 2020-01-01  131.0      1  2020\n",
       "446 2020-01-02  142.0      1  2020\n",
       "447 2020-01-03   68.0      1  2020\n",
       "448 2020-01-04   21.0      1  2020\n",
       "449 2020-01-05   31.0      1  2020\n",
       "..         ...    ...    ...   ...\n",
       "800 2019-01-27   32.0      1  2019\n",
       "801 2019-01-28   17.0      1  2019\n",
       "802 2019-01-29   26.0      1  2019\n",
       "803 2019-01-30   67.0      1  2019\n",
       "804 2019-01-31   66.0      1  2019\n",
       "\n",
       "[62 rows x 4 columns]"
      ]
     },
     "execution_count": 7,
     "metadata": {},
     "output_type": "execute_result"
    }
   ],
   "source": [
    "air_polution"
   ]
  },
  {
   "cell_type": "code",
   "execution_count": 8,
   "id": "d4b1e5ee",
   "metadata": {},
   "outputs": [],
   "source": [
    "year_2020 = air_polution[(air_polution['month'] == 1) & (air_polution['year'] == 2020)]['pm25']\n"
   ]
  },
  {
   "cell_type": "code",
   "execution_count": 9,
   "id": "7c61c565",
   "metadata": {},
   "outputs": [],
   "source": [
    "year_2019 = air_polution[(air_polution['month'] == 1) & (air_polution['year'] == 2019)]['pm25']\n"
   ]
  },
  {
   "cell_type": "code",
   "execution_count": 12,
   "id": "68a49a62",
   "metadata": {},
   "outputs": [
    {
     "data": {
      "text/plain": [
       "MannwhitneyuResult(statistic=301.0, pvalue=0.005860847705179159)"
      ]
     },
     "execution_count": 12,
     "metadata": {},
     "output_type": "execute_result"
    }
   ],
   "source": [
    "mannwhitneyu(year_2019,year_2020,alternative = \"less\" )"
   ]
  },
  {
   "cell_type": "code",
   "execution_count": null,
   "id": "6017e937",
   "metadata": {},
   "outputs": [],
   "source": [
    "Nulovu hypotezu by som zamietla, priemery sa nebudu rovnat, priemer v roku 2019 je pravdepodobne mensi"
   ]
  }
 ],
 "metadata": {
  "kernelspec": {
   "display_name": "Python 3 (ipykernel)",
   "language": "python",
   "name": "python3"
  },
  "language_info": {
   "codemirror_mode": {
    "name": "ipython",
    "version": 3
   },
   "file_extension": ".py",
   "mimetype": "text/x-python",
   "name": "python",
   "nbconvert_exporter": "python",
   "pygments_lexer": "ipython3",
   "version": "3.9.9"
  }
 },
 "nbformat": 4,
 "nbformat_minor": 5
}
