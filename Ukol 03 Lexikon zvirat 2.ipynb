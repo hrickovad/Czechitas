{
 "cells": [
  {
   "cell_type": "markdown",
   "id": "46cd4acc",
   "metadata": {},
   "source": [
    "Lexikon zvířat 2\n",
    "Chceme ke každému zvířeti vytvořit popisek na tabulku do zoo. Popisek bude využívat sloupců title (název zvířete),\n",
    "food (typ stravy), food_note (vysvětlující doplněk ke stravě) a description (jak zvíře poznáme). \n",
    "Napiš funkci popisek, která bude mít jeden parametr radek. Funkce spojí informace dohromady.\n",
    "Následně použijte metodu apply, abyste vytvořili nový sloupec s tímto popiskem.\n",
    "\n",
    "Příklady automaticky vytvořených popisků:\n",
    "\n",
    "Zvíře na pozici 320:\n",
    "  Zoborožec rýhozobý preferuje následující typ stravy: plody. Konkrétně ocení když mu do misky přistanou převážně plody, \n",
    "    příležitostně bezobratlí (včetně rojících se mravenců). \n",
    "  Jak toto zvíře poznáme: Tento malý zoborožec je nápadný výraznou pohlavní dvojtvárností. \n",
    "    Samec má krémovou hlavu a krk, bílou hruď a rezavé břicho a nadocasní krovky. Ocas je béžový, s širokým koncovým pruhem.\n",
    "    Samice je téměř celá černá a má modré pole kolem očí.\n",
    "    \n",
    "Zvíře na pozici 300:\n",
    "  Ústřičník velký preferuje následující typ stravy: bezobratlí.\n",
    "    Konkrétně ocení když mu do misky přistanou mlži, korýši a další bezobratlí. \n",
    "  Jak toto zvíře poznáme: Díky kontrastnímu zbarvení a pronikavému hlasu je nezaměnitelný.\n",
    "    Je téměř celý černý, jen hruď a břicho má bílé. Typický je svítivě oranžový zobák a růžové nohy.\n",
    "    V letu je patrný bílý křídelní pásek. Samec a samice vypadají stejně, mláďata mají hnědočerný hřbet, šedé nohy a\n",
    "    černou špičku zobáku."
   ]
  },
  {
   "cell_type": "code",
   "execution_count": 1,
   "id": "3c63bfb7",
   "metadata": {},
   "outputs": [
    {
     "data": {
      "text/plain": [
       "552679"
      ]
     },
     "execution_count": 1,
     "metadata": {},
     "output_type": "execute_result"
    }
   ],
   "source": [
    "import requests\n",
    "import pandas\n",
    "r = requests.get(\"https://raw.githubusercontent.com/lutydlitatova/czechitas-datasets/main/datasets/lexikon-zvirat.csv\")\n",
    "open(\"lexikon-zvirat.csv\", \"wb\").write(r.content)"
   ]
  },
  {
   "cell_type": "code",
   "execution_count": 2,
   "id": "8485f386",
   "metadata": {},
   "outputs": [],
   "source": [
    "lexikon = pandas.read_csv(\"lexikon-zvirat.csv\", delimiter=\";\")"
   ]
  },
  {
   "cell_type": "code",
   "execution_count": 3,
   "id": "3d5bad24",
   "metadata": {},
   "outputs": [],
   "source": [
    "lexikon = lexikon.dropna(how=\"all\")"
   ]
  },
  {
   "cell_type": "code",
   "execution_count": 4,
   "id": "f5d5f661",
   "metadata": {},
   "outputs": [],
   "source": [
    "lexikon = lexikon.dropna(axis=\"columns\",how=\"all\")"
   ]
  },
  {
   "cell_type": "code",
   "execution_count": 26,
   "id": "df2920ed",
   "metadata": {},
   "outputs": [],
   "source": [
    "def popisek (r):\n",
    "    return r[\"title\"]+\" preferuje následující typ stravy:\"+str(r[\"food\"])+\".Konkrétně ocení když mu do misky přistanou \"+str(r[\"food_note\"])+\".Jak toto zvíře poznáme: \"+r[\"description\"]"
   ]
  },
  {
   "cell_type": "code",
   "execution_count": 27,
   "id": "bd297b29",
   "metadata": {},
   "outputs": [],
   "source": [
    "lexikon[\"popisek\"] = lexikon.apply(lambda x: popisek(x),axis = 1)\n"
   ]
  },
  {
   "cell_type": "code",
   "execution_count": 28,
   "id": "224dbe05",
   "metadata": {},
   "outputs": [
    {
     "data": {
      "text/plain": [
       "'Ústřičník velký preferuje následující typ stravy:bezobratlí.Konkrétně ocení když mu do misky přistanou mlži, korýši a další bezobratlí.Jak toto zvíře poznáme: \\nDíky kontrastnímu zbarvení a pronikavému hlasu je nezaměnitelný. Je téměř celý černý, jen hruď a břicho má bílé. Typický je svítivě oranžový zobák a růžové nohy. V\\xa0letu je patrný bílý křídelní pásek. Samec a samice vypadají stejně, mláďata mají hnědočerný hřbet, šedé nohy a černou špičku zobáku.\\n\\xa0\\n'"
      ]
     },
     "execution_count": 28,
     "metadata": {},
     "output_type": "execute_result"
    }
   ],
   "source": [
    "lexikon[\"popisek\"].loc[300]"
   ]
  },
  {
   "cell_type": "code",
   "execution_count": 29,
   "id": "34c46a09",
   "metadata": {},
   "outputs": [
    {
     "data": {
      "text/plain": [
       "'Zoborožec rýhozobý preferuje následující typ stravy:plody.Konkrétně ocení když mu do misky přistanou převážně plody, příležitostně bezobratlí (včetně rojících se mravenců).Jak toto zvíře poznáme: Tento malý zoborožec je nápadný výraznou pohlavní dvojtvárností. Samec má krémovou hlavu a krk, bílou hruď a rezavé břicho a nadocasní krovky. Ocas je béžový, s\\xa0širokým koncovým pruhem. Samice je téměř celá černá a má modré pole kolem očí.\\n'"
      ]
     },
     "execution_count": 29,
     "metadata": {},
     "output_type": "execute_result"
    }
   ],
   "source": [
    "lexikon['popisek'].loc[320]"
   ]
  },
  {
   "cell_type": "code",
   "execution_count": null,
   "id": "9807c030",
   "metadata": {},
   "outputs": [],
   "source": []
  }
 ],
 "metadata": {
  "kernelspec": {
   "display_name": "Python 3",
   "language": "python",
   "name": "python3"
  },
  "language_info": {
   "codemirror_mode": {
    "name": "ipython",
    "version": 3
   },
   "file_extension": ".py",
   "mimetype": "text/x-python",
   "name": "python",
   "nbconvert_exporter": "python",
   "pygments_lexer": "ipython3",
   "version": "3.6.8"
  }
 },
 "nbformat": 4,
 "nbformat_minor": 5
}
